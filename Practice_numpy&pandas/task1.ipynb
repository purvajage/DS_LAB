{
  "cells": [
    {
      "cell_type": "code",
      "execution_count": null,
      "metadata": {
        "colab": {
          "base_uri": "https://localhost:8080/"
        },
        "id": "wVh-dyn3w8sc",
        "outputId": "29155876-6319-415b-d8a5-de6e7acd945d"
      },
      "outputs": [
        {
          "ename": "",
          "evalue": "",
          "output_type": "error",
          "traceback": [
            "\u001b[1;31mThe kernel failed to start as 'has_suggestion' could not be imported from 'C:\\Users\\HP\\AppData\\Roaming\\Python\\Python310\\site-packages\\prompt_toolkit\\filters\\__init__.py'.\n",
            "\u001b[1;31mClick <a href='https://aka.ms/kernelFailuresModuleImportErrFromFile'>here</a> for more info."
          ]
        }
      ],
      "source": [
        "import numpy as np\n",
        "\n",
        "product_id = np.arange(1, 101)\n",
        "sales = np.random.randint(1, 100, size=100)\n",
        "price = np.random.uniform(10, 100, size=100)\n",
        "category = np.random.choice(['electronics', 'clothing', 'home goods'], size=100)\n",
        "data_type = np.dtype([('product_id', int), ('sales', int), ('price', float), ('category', 'U20')])\n",
        "\n",
        "# Create the structured array\n",
        "sales_data = np.empty(100, dtype=data_type)\n",
        "sales_data['product_id'] = product_id\n",
        "sales_data['sales'] = sales\n",
        "sales_data['price'] = price\n",
        "sales_data['category'] = category\n",
        "\n",
        "print(\"Sales Data Array:\")\n",
        "print(sales_data)\n",
        "\n"
      ]
    },
    {
      "cell_type": "code",
      "execution_count": null,
      "metadata": {
        "colab": {
          "base_uri": "https://localhost:8080/"
        },
        "id": "oaeh8ZT8xmEp",
        "outputId": "32c13e75-3c9c-48a0-c262-63117b4855d7"
      },
      "outputs": [],
      "source": [
        "sales = sales_data['sales']\n",
        "price = sales_data['price']\n",
        "total_revenue_per_product = sales * price\n",
        "print(\"Total Sales Revenue per Product:\", total_revenue_per_product)"
      ]
    },
    {
      "cell_type": "code",
      "execution_count": null,
      "metadata": {
        "colab": {
          "base_uri": "https://localhost:8080/"
        },
        "collapsed": true,
        "id": "VCbl4azVzP1h",
        "outputId": "a97fa7e1-bff9-47a7-e1c5-197eaa5d6cbe"
      },
      "outputs": [],
      "source": [
        "import numpy as np\n",
        "total_sales_revenue=sales*price\n",
        "print(total_sales_revenue)"
      ]
    },
    {
      "cell_type": "code",
      "execution_count": null,
      "metadata": {
        "colab": {
          "base_uri": "https://localhost:8080/"
        },
        "id": "7tXoAtbMZfOA",
        "outputId": "87fcf087-4fcb-48e6-d3ef-ab6d083d88cf"
      },
      "outputs": [],
      "source": [
        "import pandas as pd\n",
        "df_sales = pd.DataFrame(sales_data)\n",
        "df_sales['revenue'] = df_sales['sales'] * df_sales['price']\n",
        "average_revenue_per_category = df_sales.groupby('category')['revenue'].mean()\n",
        "print(\"Average Sales Revenue per Category:\\n\", average_revenue_per_category)"
      ]
    },
    {
      "cell_type": "code",
      "execution_count": null,
      "metadata": {
        "colab": {
          "base_uri": "https://localhost:8080/"
        },
        "id": "_d5UuBeJ1Bci",
        "outputId": "59439b04-f107-4b8b-9c95-0ab9010cae68"
      },
      "outputs": [],
      "source": [
        "sorted_indices = np.argsort(total_revenue_per_product)\n",
        "top_indices_desc = sorted_indices[::-1]\n",
        "top_5_indices = top_indices_desc[:5]\n",
        "top_5_products_by_id = sales_data['product_id'][top_5_indices]\n",
        "print(\"Top 5 Product IDs by Revenue:\", top_5_products_by_id)"
      ]
    },
    {
      "cell_type": "code",
      "execution_count": null,
      "metadata": {
        "colab": {
          "base_uri": "https://localhost:8080/"
        },
        "id": "aORyOXf1bOEO",
        "outputId": "77c4379e-1567-4b3e-db46-edd8544062ce"
      },
      "outputs": [],
      "source": [
        "correlation_matrix = np.corrcoef(sales, price)\n",
        "correlation_coefficient = correlation_matrix[0, 1]\n",
        "print(f\"Correlation coefficient between sales and price: {correlation_coefficient}\")"
      ]
    }
  ],
  "metadata": {
    "colab": {
      "provenance": []
    },
    "kernelspec": {
      "display_name": "Python 3",
      "name": "python3"
    },
    "language_info": {
      "name": "python",
      "version": "3.10.0"
    }
  },
  "nbformat": 4,
  "nbformat_minor": 0
}
